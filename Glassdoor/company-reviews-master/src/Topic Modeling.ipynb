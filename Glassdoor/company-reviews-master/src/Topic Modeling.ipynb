{
 "cells": [
  {
   "cell_type": "markdown",
   "metadata": {},
   "source": [
    "# Topic Modeling #\n",
    "\n",
    "This notebook shows how to prepare the data for topic modeling and how to analyze the data.\n",
    "\n",
    "If you have already run the [hdp library](http://github.com/henridwyer/hdp) with your corpus, go directly to the section: [The Topics](#topics).\n",
    "\n",
    "For context about the example data, see [data science jobs in new york](http://henri.io/posts/choosing-a-job-data-science-new-york.html)."
   ]
  },
  {
   "cell_type": "markdown",
   "metadata": {},
   "source": [
    "## Parameters ##"
   ]
  },
  {
   "cell_type": "code",
   "execution_count": 36,
   "metadata": {
    "collapsed": false
   },
   "outputs": [],
   "source": [
    "# words that appear in fewer than MIN_DOC_FREQ documents will be ignored\n",
    "MIN_DOC_FREQ = 20\n",
    "\n",
    "# if there are less than MIN_WORDS in a document, it is dropped\n",
    "MIN_WORDS = 10"
   ]
  },
  {
   "cell_type": "code",
   "execution_count": 2,
   "metadata": {
    "collapsed": false
   },
   "outputs": [],
   "source": [
    "from pymongo import MongoClient\n",
    "import datetime\n",
    "import reviews_data\n",
    "from nltk.tokenize import sent_tokenize, word_tokenize\n",
    "from nltk.corpus import stopwords\n",
    "import re\n",
    "import string\n",
    "from gensim import corpora, models, similarities"
   ]
  },
  {
   "cell_type": "code",
   "execution_count": 3,
   "metadata": {
    "collapsed": false
   },
   "outputs": [],
   "source": [
    "# DB settings\n",
    "client = MongoClient()\n",
    "indeed_db = client.indeed\n",
    "indeed_jobs = indeed_db.jobs\n",
    "indeed_reviews = indeed_db.reviews\n",
    "glassdoor_db = client.glassdoor\n",
    "glassdoor_reviews = glassdoor_db.reviews"
   ]
  },
  {
   "cell_type": "markdown",
   "metadata": {},
   "source": [
    "## Preparing the data ##"
   ]
  },
  {
   "cell_type": "code",
   "execution_count": 4,
   "metadata": {
    "collapsed": false
   },
   "outputs": [
    {
     "data": {
      "text/plain": [
       "196614"
      ]
     },
     "execution_count": 4,
     "metadata": {},
     "output_type": "execute_result"
    }
   ],
   "source": [
    "# this could also be the stemmed version - see db_access\n",
    "all_reviews = reviews_data.get_combined_lower(indeed_reviews, glassdoor_reviews)\n",
    "# all_reviews = reviews_data.get_stemmed_combined_reviews(indeed_reviews, glassdoor_reviews)\n",
    "len(all_reviews)"
   ]
  },
  {
   "cell_type": "code",
   "execution_count": 5,
   "metadata": {
    "collapsed": false
   },
   "outputs": [
    {
     "data": {
      "text/plain": [
       "u'ok to work for, keep personal separate from business keep business separate from personal, low management, coworkers were ok to work with, hardest part of job was mainteance of paper work and most enjoyable was succeeding at goals and requirements. pros: great leaders cons: healthcare, understaffed'"
      ]
     },
     "execution_count": 5,
     "metadata": {},
     "output_type": "execute_result"
    }
   ],
   "source": [
    "all_reviews[10090]"
   ]
  },
  {
   "cell_type": "markdown",
   "metadata": {},
   "source": [
    "### Stopwords ###\n",
    "\n",
    "One problem of topic modeling has to do with common words that hold little meaning, e.g. 'the'. These words are very common, so the algorithm will focus on them. However, they bring little information about the topics.\n",
    "\n",
    "The main way to deal with these so-called stopwords is to remove them during preprocessing. If you see such words in the topics at the end, you can come back to this step and add those words to the stop list."
   ]
  },
  {
   "cell_type": "code",
   "execution_count": 6,
   "metadata": {
    "collapsed": false
   },
   "outputs": [],
   "source": [
    "# remove stop_words\n",
    "stop = stopwords.words(\"english\")\n",
    "stop += ['.',',','(',')',\"'\",'\"',':','','...','-','``',';',\";'\",'&']\n",
    "stop += [str(i) for i in range(30)]\n",
    "stop += [\"'s\", \"n't\", ]\n",
    "stop += list(string.lowercase[:26])\n",
    "stop += ['pro','con','pros','cons']\n",
    "stop = set(stop) # sets are much faster to search"
   ]
  },
  {
   "cell_type": "markdown",
   "metadata": {},
   "source": [
    "*Warning* : this step can be a bit slow."
   ]
  },
  {
   "cell_type": "code",
   "execution_count": 7,
   "metadata": {
    "collapsed": false
   },
   "outputs": [],
   "source": [
    "# If you use stemmed words - you also need to stem the stopwords\n",
    "# stemmer = PorterStemmer()\n",
    "# stop = set([stemmer.stem(word) for word in stop])\n",
    "\n",
    "preproc, doc_indexes = reviews_data.preprocess(all_reviews, stop, MIN_WORDS)"
   ]
  },
  {
   "cell_type": "code",
   "execution_count": 8,
   "metadata": {
    "collapsed": false
   },
   "outputs": [
    {
     "data": {
      "text/plain": [
       "183789"
      ]
     },
     "execution_count": 8,
     "metadata": {},
     "output_type": "execute_result"
    }
   ],
   "source": [
    "len(preproc)"
   ]
  },
  {
   "cell_type": "code",
   "execution_count": 37,
   "metadata": {
    "collapsed": false
   },
   "outputs": [
    {
     "name": "stdout",
     "output_type": "stream",
     "text": [
      "Dictionary(10673 unique tokens: [u'yellow', u'advices', u'hanging', u'cobit', u'localized']...)\n"
     ]
    }
   ],
   "source": [
    "# assign id to words\n",
    "dictionary = corpora.Dictionary(preproc)\n",
    "# remove words that appear less than MIN_DOC_FREQ times\n",
    "few_ids = [tokenid for tokenid, docfreq in dictionary.dfs.iteritems() if docfreq <= MIN_DOC_FREQ]\n",
    "dictionary.filter_tokens(few_ids)\n",
    "dictionary.compactify()\n",
    "\n",
    "corpus = [dictionary.doc2bow(doc) for doc in preproc]\n",
    "print dictionary"
   ]
  },
  {
   "cell_type": "code",
   "execution_count": 45,
   "metadata": {
    "collapsed": false
   },
   "outputs": [
    {
     "data": {
      "image/png": "[encoded data removed]",
      "text/plain": [
       "<matplotlib.figure.Figure at 0x148e919d0>"
      ]
     },
     "metadata": {},
     "output_type": "display_data"
    }
   ],
   "source": [
    "%matplotlib inline\n",
    "# This can help choose MIN_DOC_FREQ\n",
    "import matplotlib.pyplot as plt\n",
    "plt.hist(sorted(dictionary.dfs.values())[:-5000], bins=100);"
   ]
  },
  {
   "cell_type": "code",
   "execution_count": 50,
   "metadata": {
    "collapsed": false
   },
   "outputs": [],
   "source": [
    "reviews_data.write_ldac(\"lda-c.txt\", corpus)\n",
    "dictionary.save_as_text(\"lda_dictionary.txt\") #this will be used in the analysis\n",
    "with open('doc_indexes.txt', 'w') as doc_indexes_file:\n",
    "    for i in doc_indexes:\n",
    "        doc_indexes_file.write(\"%s\\n\" % i)"
   ]
  },
  {
   "cell_type": "markdown",
   "metadata": {},
   "source": [
    "## Run Topic Modeling Library ##\n",
    "\n",
    "Now the data is ready to be used with hierarchical Dirichlet process, an extension of latent Dirichlet allocation. I used a library found on David M. Blei's page: http://www.cs.princeton.edu/~blei/topicmodeling.html, which I modified slightly so that it would work with large corpuses (over 32767 documents), and so that it saved the documents' topic's at the end. You can find the modified version on [github](http://github.com/henridwyer/hdp).\n",
    "\n",
    "Follow the instructions and run:\n",
    "\n",
    "```\n",
    "./hdp --train_data lda-c.txt --directory output --verbose --sample_hyper --max_iter 1000 --max_time -1 --save_lag 100\n",
    "```\n",
    "\n",
    "Alternatively, you can use gensim or any other topic modeling library."
   ]
  },
  {
   "cell_type": "markdown",
   "metadata": {},
   "source": [
    "<a id='topics' />"
   ]
  },
  {
   "cell_type": "markdown",
   "metadata": {},
   "source": [
    "# The Topics #\n",
    "\n",
    "This next part assumes you used the hdp library described above, or at least that your outputs share the same format. It's written so you can start from here."
   ]
  },
  {
   "cell_type": "code",
   "execution_count": 84,
   "metadata": {
    "collapsed": false
   },
   "outputs": [],
   "source": [
    "results_directory = \"~/hdp/output/\"\n",
    "results_directory+= \"final.\"\n",
    "# how many topics to show\n",
    "NB_OF_TOPICS = 10\n",
    "\n",
    "# how many words per topic to show\n",
    "NB_OF_WORDS = 20"
   ]
  },
  {
   "cell_type": "code",
   "execution_count": 85,
   "metadata": {
    "collapsed": false
   },
   "outputs": [],
   "source": [
    "import numpy as np\n",
    "from gensim import corpora\n",
    "dictionary = corpora.Dictionary.load_from_text(\"lda_dictionary.txt\")\n",
    "doc_indexes = []\n",
    "with open('doc_indexes.txt') as doc_indexes_file:\n",
    "    for line in doc_indexes_file:\n",
    "        doc_indexes.append(int(line))"
   ]
  },
  {
   "cell_type": "code",
   "execution_count": 86,
   "metadata": {
    "collapsed": false
   },
   "outputs": [],
   "source": [
    "def sort_perm(vals, reverse=True):\n",
    "    return sorted(range(len(vals)), key=vals.__getitem__, reverse=reverse)\n",
    "\n",
    "def line_to_int(line):\n",
    "    return [int(i) for i in line.split(' ')]\n",
    "\n",
    "def topic_words(topic, n=10):\n",
    "    return [dictionary[i] for i in sort_perm(line_to_int(topic))[:n]]\n",
    "\n",
    "def read_f(name):\n",
    "    with open(results_directory + name) as f:\n",
    "        arr = []\n",
    "        for l in f:\n",
    "            try:\n",
    "                arr.append(int(l.strip()))\n",
    "            except ValueError:\n",
    "                arr.append(float(l.strip()))\n",
    "        return arr"
   ]
  },
  {
   "cell_type": "code",
   "execution_count": 87,
   "metadata": {
    "collapsed": false
   },
   "outputs": [],
   "source": [
    "counts = read_f(\"counts\")"
   ]
  },
  {
   "cell_type": "code",
   "execution_count": 88,
   "metadata": {
    "collapsed": false
   },
   "outputs": [
    {
     "data": {
      "text/plain": [
       "[0, 3, 5, 7, 4, 1, 8, 19, 21, 2]"
      ]
     },
     "execution_count": 88,
     "metadata": {},
     "output_type": "execute_result"
    }
   ],
   "source": [
    "main_topicc_idx = sort_perm(counts)[:NB_OF_TOPICS]\n",
    "main_topicc_idx"
   ]
  },
  {
   "cell_type": "code",
   "execution_count": 89,
   "metadata": {
    "collapsed": false
   },
   "outputs": [],
   "source": [
    "hdp_out = open(results_directory + \"topics\")\n",
    "\n",
    "i = 0\n",
    "top_topics = [[0]]*NB_OF_TOPICS\n",
    "all_topics = [[0]]*len(counts)\n",
    "for line in hdp_out:\n",
    "    all_topics[i] = line_to_int(line)\n",
    "    if i in main_topicc_idx:\n",
    "        top_topics[main_topicc_idx.index(i)] = line_to_int(line)\n",
    "    i+=1\n",
    "all_topics = np.array(all_topics)"
   ]
  },
  {
   "cell_type": "markdown",
   "metadata": {},
   "source": [
    "## Most important topics and words ##\n",
    "\n",
    "First let's look at the most common words in the most common topics."
   ]
  },
  {
   "cell_type": "code",
   "execution_count": 90,
   "metadata": {
    "collapsed": false
   },
   "outputs": [
    {
     "data": {
      "text/plain": [
       "(170, 10673)"
      ]
     },
     "execution_count": 90,
     "metadata": {},
     "output_type": "execute_result"
    }
   ],
   "source": [
    "all_topics.shape"
   ]
  },
  {
   "cell_type": "code",
   "execution_count": 91,
   "metadata": {
    "collapsed": false
   },
   "outputs": [
    {
     "name": "stdout",
     "output_type": "stream",
     "text": [
      "[u'work', u'good', u'great', u'life', u'balance', u'people', u'place', u'hours', u'pay', u'benefits', u'company', u'long', u'working', u'lot', u'career', u'opportunities', u'hard', u'nice', u'culture', u'compensation']\n",
      "[u'one', u'work', u'would', u'job', u'time', u'even', u'make', u'years', u'manager', u'like', u'never', u'go', u'could', u'every', u'year', u'management', u'say', u'another', u'day', u'worked']\n",
      "[u'people', u'get', u'like', u'company', u'really', u'know', u'want', u'much', u'employees', u'way', u'need', u'hard', u'think', u'also', u'many', u'best', u'well', u'working', u'things', u'give']\n",
      "[u'opportunities', u'career', u'work', u'opportunity', u'training', u'many', u'development', u'within', u'growth', u'skills', u'different', u'management', u'employees', u'environment', u'experience', u'organization', u'team', u'large', u'professional', u'difficult']\n",
      "[u'work', u'great', u'environment', u'place', u'working', u'team', u'fun', u'co', u'always', u'people', u'fast', u'productive', u'management', u'friendly', u'learned', u'enjoyed', u'new', u'day', u'worked', u'learn']\n",
      "[u'people', u'culture', u'business', u'focus', u'leadership', u'talent', u'top', u'high', u'make', u'organization', u'senior', u'process', u'strong', u'long', u'change', u'smart', u'company', u'performance', u'internal', u'making']\n",
      "[u'employees', u'company', u'management', u'good', u'many', u'employee', u'changes', u'benefits', u'change', u'new', u'communication', u'make', u'lack', u'needs', u'well', u'upper', u'lot', u'better', u'time', u'constant']\n",
      "[u'benefits', u'pay', u'employees', u'good', u'salary', u'company', u'low', u'health', u'compensation', u'year', u'bonus', u'vacation', u'employee', u'bonuses', u'time', u'insurance', u'paid', u'raises', u'better', u'performance']\n",
      "[u'hours', u'time', u'pay', u'days', u'get', u'day', u'week', u'long', u'job', u'hour', u'every', u'vacation', u'overtime', u'training', u'high', u'schedule', u'paid', u'employees', u'shift', u'benefits']\n",
      "[u'great', u'company', u'benefits', u'job', u'excellent', u'management', u'training', u'environment', u'advancement', u'good', u'room', u'employees', u'best', u'really', u'security', u'overall', u'culture', u'experience', u'people', u'growth']\n"
     ]
    }
   ],
   "source": [
    "for topic in top_topics:\n",
    "    print [dictionary[i] for i in sort_perm(topic)[:NB_OF_WORDS]]"
   ]
  },
  {
   "cell_type": "markdown",
   "metadata": {},
   "source": [
    "We want to see the most important words in each topics. That means both those that have the largest weight in a given topic, but also those that are unique to that topic. Words like 'get', 'work' or 'people' are very common and don't define a topic very well.\n",
    "\n",
    "The parameters alpha and beta help control that trade off. Intuitively: larger beta -> filter out rare words in the corpus, larger alpha -> less common words in the topic. Alpha should be less than Beta.\n",
    "\n",
    "Playing around with these parameters is important to get interesting results."
   ]
  },
  {
   "cell_type": "code",
   "execution_count": 217,
   "metadata": {
    "collapsed": false
   },
   "outputs": [],
   "source": [
    "ALPHA = 0.0005\n",
    "BETA = 0.0005"
   ]
  },
  {
   "cell_type": "code",
   "execution_count": 93,
   "metadata": {
    "collapsed": true
   },
   "outputs": [],
   "source": [
    "all_topics = np.array(all_topics)\n",
    "topic_freqs = np.sum(all_topics, axis=1)\n",
    "word_freq = np.sum(all_topics, axis=0)"
   ]
  },
  {
   "cell_type": "code",
   "execution_count": 94,
   "metadata": {
    "collapsed": false
   },
   "outputs": [
    {
     "data": {
      "image/png": "[encoded data removed]",
      "text/plain": [
       "<matplotlib.figure.Figure at 0x10dffc7d0>"
      ]
     },
     "metadata": {},
     "output_type": "display_data"
    }
   ],
   "source": [
    "%matplotlib inline \n",
    "# this helps choose beta - not too far from where the main frequencies are.\n",
    "import matplotlib.pyplot as plt\n",
    "plt.hist(sorted(word_freq.astype(float)/np.sum(word_freq))[:-100], bins=100);"
   ]
  },
  {
   "cell_type": "code",
   "execution_count": 95,
   "metadata": {
    "collapsed": false
   },
   "outputs": [],
   "source": [
    "import csv\n",
    "import os.path\n",
    "\n",
    "def export_wordcloud(topic, ratio,k, fname):\n",
    "    fname = fname +'.tsv'\n",
    "    exists = os.path.isfile(fname)\n",
    "    with open(fname, 'a') as csvfile:\n",
    "        topic_writer = csv.writer(csvfile, delimiter='\\t')\n",
    "        if not exists: #write headers\n",
    "            topic_writer.writerow(['topic','text','size','ratio'])\n",
    "        most_important_words = sort_perm(topic)[:NB_OF_WORDS]\n",
    "        for i in most_important_words:\n",
    "            topic_writer.writerow([k,dictionary[i], topic[i], ratio[i]])\n",
    "\n",
    "def write_topics(topics_indexes, export = False, name = \"\"):\n",
    "    topics_list = []\n",
    "    \n",
    "    topic_freqs_normalized = topic_freqs.copy()/float(sum(topic_freqs))\n",
    "    for k,idx in enumerate(topics_indexes):\n",
    "        topic = (all_topics[idx].astype(float)/sum(all_topics[idx]) + ALPHA) / (word_freq.astype(float)/np.sum(word_freq) + BETA)\n",
    "        topic /=max(topic)\n",
    "        topic*= 1000\n",
    "        ratio = np.array(all_topics[idx]) / np.array(word_freq).astype(float)\n",
    "        ratio /= max(ratio)\n",
    "        ratio += np.array(0.2)\n",
    "        ratio /= max(ratio)\n",
    "        if export:\n",
    "            if not name:\n",
    "                name = 'topic_'+ str(k)\n",
    "            export_wordcloud(topic, ratio,k, name)\n",
    "        else:\n",
    "            most_important_words = sort_perm(topic)[:NB_OF_WORDS]\n",
    "            topics_list.append([dictionary[i] for i in most_important_words])\n",
    "    \n",
    "    if not export:\n",
    "        return topics_list"
   ]
  },
  {
   "cell_type": "markdown",
   "metadata": {},
   "source": [
    "To tweak alpha and beta, here you can see how common the words selected are in the largest topics. A 2-5 ratio seems to give good results."
   ]
  },
  {
   "cell_type": "code",
   "execution_count": 221,
   "metadata": {
    "collapsed": false,
    "scrolled": true
   },
   "outputs": [
    {
     "name": "stdout",
     "output_type": "stream",
     "text": [
      "13829\n",
      "62226\n"
     ]
    }
   ],
   "source": [
    "def sum_rank(arr, ref):\n",
    "    return sum([ref.index(a) for a in arr])\n",
    "init = 0\n",
    "changed = 0\n",
    "n = 20\n",
    "for i in range(10):\n",
    "    topic = (all_topics[i].astype(float)/sum(all_topics[i]) + ALPHA) / (word_freq.astype(float)/np.sum(word_freq) + BETA)\n",
    "    init += sum_rank(sort_perm(top_topics[i])[:n], sort_perm(word_freq))\n",
    "    changed += sum_rank(sort_perm(topic)[:n], sort_perm(word_freq))\n",
    "print init\n",
    "print changed"
   ]
  },
  {
   "cell_type": "code",
   "execution_count": 218,
   "metadata": {
    "collapsed": false,
    "scrolled": true
   },
   "outputs": [
    {
     "data": {
      "text/plain": [
       "[[u'balance',\n",
       "  u'life',\n",
       "  u'good',\n",
       "  u'work',\n",
       "  u'hours',\n",
       "  u'place',\n",
       "  u'flexible',\n",
       "  u'long',\n",
       "  u'nice',\n",
       "  u'lots',\n",
       "  u'compensation',\n",
       "  u'pay',\n",
       "  u'flexibility',\n",
       "  u'hard',\n",
       "  u'career',\n",
       "  u'great',\n",
       "  u'ok',\n",
       "  u'lot',\n",
       "  u'home',\n",
       "  u'opportunities'],\n",
       " [u'never',\n",
       "  u'even',\n",
       "  u'told',\n",
       "  u'one',\n",
       "  u'another',\n",
       "  u'would',\n",
       "  u'left',\n",
       "  u'got',\n",
       "  u'say',\n",
       "  u'reason',\n",
       "  u'manager',\n",
       "  u'months',\n",
       "  u'two',\n",
       "  u'tell',\n",
       "  u'go',\n",
       "  u'someone',\n",
       "  u'last',\n",
       "  u'could',\n",
       "  u'person',\n",
       "  u'ever'],\n",
       " [u'get',\n",
       "  u'want',\n",
       "  u'think',\n",
       "  u'know',\n",
       "  u'try',\n",
       "  u'give',\n",
       "  u'like',\n",
       "  u'way',\n",
       "  u'anyone',\n",
       "  u'stop',\n",
       "  u'else',\n",
       "  u'anything',\n",
       "  u'right',\n",
       "  u'ca',\n",
       "  u'people',\n",
       "  u'really',\n",
       "  u'done',\n",
       "  u'trying',\n",
       "  u'everyone',\n",
       "  u'actually'],\n",
       " [u'opportunities',\n",
       "  u'career',\n",
       "  u'development',\n",
       "  u'skills',\n",
       "  u'opportunity',\n",
       "  u'within',\n",
       "  u'develop',\n",
       "  u'knowledge',\n",
       "  u'roles',\n",
       "  u'organization',\n",
       "  u'across',\n",
       "  u'grow',\n",
       "  u'skill',\n",
       "  u'areas',\n",
       "  u'teams',\n",
       "  u'growth',\n",
       "  u'role',\n",
       "  u'limited',\n",
       "  u'ability',\n",
       "  u'resources'],\n",
       " [u'fun',\n",
       "  u'fast',\n",
       "  u'productive',\n",
       "  u'paced',\n",
       "  u'enjoyed',\n",
       "  u'workplace',\n",
       "  u'environment',\n",
       "  u'team',\n",
       "  u'co',\n",
       "  u'friendly',\n",
       "  u'always',\n",
       "  u'place',\n",
       "  u'pace',\n",
       "  u'everyday',\n",
       "  u'enjoy',\n",
       "  u'working',\n",
       "  u'helpful',\n",
       "  u'loved',\n",
       "  u'learned',\n",
       "  u'able'],\n",
       " [u'talent',\n",
       "  u'focus',\n",
       "  u'leadership',\n",
       "  u'innovation',\n",
       "  u'strong',\n",
       "  u'leaders',\n",
       "  u'decision',\n",
       "  u'top',\n",
       "  u'organization',\n",
       "  u'results',\n",
       "  u'talented',\n",
       "  u'strategy',\n",
       "  u'decisions',\n",
       "  u'culture',\n",
       "  u'political',\n",
       "  u'driven',\n",
       "  u'vision',\n",
       "  u'rather',\n",
       "  u'values',\n",
       "  u'term'],\n",
       " [u'changes',\n",
       "  u'communication',\n",
       "  u'change',\n",
       "  u'constant',\n",
       "  u'employees',\n",
       "  u'upper',\n",
       "  u'direction',\n",
       "  u'employee',\n",
       "  u'listen',\n",
       "  u'decisions',\n",
       "  u'lack',\n",
       "  u'management',\n",
       "  u'morale',\n",
       "  u'needs',\n",
       "  u'changing',\n",
       "  u'due',\n",
       "  u're',\n",
       "  u'company',\n",
       "  u'many',\n",
       "  u'communicate'],\n",
       " [u'health',\n",
       "  u'bonus',\n",
       "  u'raises',\n",
       "  u'vacation',\n",
       "  u'bonuses',\n",
       "  u'reimbursement',\n",
       "  u'tuition',\n",
       "  u'insurance',\n",
       "  u'increase',\n",
       "  u'salary',\n",
       "  u'low',\n",
       "  u'medical',\n",
       "  u'dental',\n",
       "  u'increases',\n",
       "  u'salaries',\n",
       "  u'package',\n",
       "  u'match',\n",
       "  u'pay',\n",
       "  u'raise',\n",
       "  u'paid'],\n",
       " [u'week',\n",
       "  u'days',\n",
       "  u'hour',\n",
       "  u'overtime',\n",
       "  u'hours',\n",
       "  u'shift',\n",
       "  u'vacation',\n",
       "  u'weekends',\n",
       "  u'holidays',\n",
       "  u'late',\n",
       "  u'weeks',\n",
       "  u'schedule',\n",
       "  u'sick',\n",
       "  u'shifts',\n",
       "  u'per',\n",
       "  u'paid',\n",
       "  u'time',\n",
       "  u'lunch',\n",
       "  u'night',\n",
       "  u'expected'],\n",
       " [u'excellent',\n",
       "  u'great',\n",
       "  u'room',\n",
       "  u'advancement',\n",
       "  u'security',\n",
       "  u'benefits',\n",
       "  u'company',\n",
       "  u'wonderful',\n",
       "  u'none',\n",
       "  u'awesome',\n",
       "  u'verizon',\n",
       "  u'overall',\n",
       "  u'training',\n",
       "  u'recommend',\n",
       "  u'advance',\n",
       "  u'amazing',\n",
       "  u'love',\n",
       "  u'job',\n",
       "  u'best',\n",
       "  u'professional']]"
      ]
     },
     "execution_count": 218,
     "metadata": {},
     "output_type": "execute_result"
    }
   ],
   "source": [
    "write_topics(main_topicc_idx)"
   ]
  },
  {
   "cell_type": "markdown",
   "metadata": {},
   "source": [
    "<a id=\"filtering\" />"
   ]
  },
  {
   "cell_type": "markdown",
   "metadata": {},
   "source": [
    "## Filtering Topics ##\n",
    "\n",
    "Now that we've seen the most common topics, we can get to the main part: filtering topics based the company (or other criteria).\n",
    "\n",
    "The parameters alpha and beta here serve the same purpose as above, but for identifying most important topics (and not words). Since there are far fewer topics, these should be much larger."
   ]
  },
  {
   "cell_type": "code",
   "execution_count": 223,
   "metadata": {
    "collapsed": false
   },
   "outputs": [],
   "source": [
    "ALPHA_T = 0.01\n",
    "BETA_T = 0.01"
   ]
  },
  {
   "cell_type": "code",
   "execution_count": 111,
   "metadata": {
    "collapsed": false,
    "scrolled": true
   },
   "outputs": [
    {
     "data": {
      "image/png": "[encoded data removed]",
      "text/plain": [
       "<matplotlib.figure.Figure at 0x10a524150>"
      ]
     },
     "metadata": {},
     "output_type": "display_data"
    }
   ],
   "source": [
    "%matplotlib inline \n",
    "# this helps choose beta - not too far from where the main frequencies are.\n",
    "import matplotlib.pyplot as plt\n",
    "plt.hist(sorted(np.array(counts)/float(sum(counts)))[:-50], bins=20);"
   ]
  },
  {
   "cell_type": "code",
   "execution_count": 108,
   "metadata": {
    "collapsed": false
   },
   "outputs": [],
   "source": [
    "from pymongo import MongoClient\n",
    "import reviews_data\n",
    "import utils\n",
    "# DB settings\n",
    "client = MongoClient()\n",
    "indeed_db = client.indeed\n",
    "indeed_jobs = indeed_db.jobs\n",
    "indeed_reviews = indeed_db.reviews\n",
    "glassdoor_db = client.glassdoor\n",
    "glassdoor_reviews = glassdoor_db.reviews"
   ]
  },
  {
   "cell_type": "code",
   "execution_count": 109,
   "metadata": {
    "collapsed": false
   },
   "outputs": [],
   "source": [
    "ratings = reviews_data.all_ratings(indeed_reviews, glassdoor_reviews)\n",
    "\n",
    "# Drop ratings from reviews that were dropped\n",
    "kept_ratings_temp = []\n",
    "for i in doc_indexes:\n",
    "    kept_ratings_temp.append(ratings[i])\n",
    "ratings = kept_ratings_temp"
   ]
  },
  {
   "cell_type": "code",
   "execution_count": 110,
   "metadata": {
    "collapsed": false
   },
   "outputs": [],
   "source": [
    "# Read doc states\n",
    "with open(results_directory + \"doc.states\") as f:\n",
    "    doc_states = []\n",
    "    for l in f:\n",
    "        doc_states.append([int(i) for i in l.strip().split(' ')])"
   ]
  },
  {
   "cell_type": "code",
   "execution_count": 53,
   "metadata": {
    "collapsed": false
   },
   "outputs": [
    {
     "data": {
      "text/plain": [
       "183789"
      ]
     },
     "execution_count": 53,
     "metadata": {},
     "output_type": "execute_result"
    }
   ],
   "source": [
    "len(ratings)"
   ]
  },
  {
   "cell_type": "code",
   "execution_count": 54,
   "metadata": {
    "collapsed": false
   },
   "outputs": [
    {
     "data": {
      "text/plain": [
       "183789"
      ]
     },
     "execution_count": 54,
     "metadata": {},
     "output_type": "execute_result"
    }
   ],
   "source": [
    "len(doc_states) # the number of ratings and documents should be the same"
   ]
  },
  {
   "cell_type": "markdown",
   "metadata": {},
   "source": [
    "<a id=\"company\" />"
   ]
  },
  {
   "cell_type": "markdown",
   "metadata": {},
   "source": [
    "## Topics By Company ##"
   ]
  },
  {
   "cell_type": "code",
   "execution_count": 55,
   "metadata": {
    "collapsed": false
   },
   "outputs": [],
   "source": [
    "companies = list(set(utils.get_company_names(indeed_reviews)))"
   ]
  },
  {
   "cell_type": "code",
   "execution_count": 56,
   "metadata": {
    "collapsed": false
   },
   "outputs": [],
   "source": [
    "def company_topics(company, output = False):\n",
    "    top_sum = np.array([0]*len(all_topics))\n",
    "    count = 0\n",
    "    for i in range(len(ratings)):\n",
    "        if ratings[i]['company'] == company:\n",
    "            count += 1\n",
    "            top_sum += np.array(doc_states[i])\n",
    "    if output:      \n",
    "        print(\"Number of reviews for \" + company + \": \" + str(count))\n",
    "    return top_sum\n",
    "\n",
    "# most disproportionately common topics\n",
    "def largest_topics(topic, topic_freqs, alpha, beta):\n",
    "    topic = np.array(topic.copy()).astype(float)\n",
    "    topic /= sum(topic)\n",
    "    return (topic + alpha)/(topic_freqs/float(sum(topic_freqs)) + beta)"
   ]
  },
  {
   "cell_type": "markdown",
   "metadata": {},
   "source": [
    "To tweak alpha and beta, here you can see how common the topics selected are. A 2-5 ratio seems to give good results."
   ]
  },
  {
   "cell_type": "code",
   "execution_count": 224,
   "metadata": {
    "collapsed": false
   },
   "outputs": [
    {
     "name": "stdout",
     "output_type": "stream",
     "text": [
      "660\n",
      "1350\n"
     ]
    }
   ],
   "source": [
    "n = 10\n",
    "init, changed = 0,0\n",
    "for i in range(10):\n",
    "    company_tops = largest_topics(company_topics(company, False), topic_freqs, ALPHA_T, BETA_T)\n",
    "    init += sum_rank(sort_perm(company_topics(company, False))[:n], sort_perm(topic_freqs))\n",
    "    changed += sum_rank(sort_perm(company_tops)[:n], sort_perm(topic_freqs))\n",
    "print init\n",
    "print changed"
   ]
  },
  {
   "cell_type": "code",
   "execution_count": 225,
   "metadata": {
    "collapsed": false,
    "scrolled": true
   },
   "outputs": [
    {
     "name": "stdout",
     "output_type": "stream",
     "text": [
      "Verizon\n",
      "Number of reviews for Verizon: 8913\n"
     ]
    },
    {
     "data": {
      "text/plain": [
       "[[u'cable',\n",
       "  u'customer',\n",
       "  u'call',\n",
       "  u'comcast',\n",
       "  u'phone',\n",
       "  u'service',\n",
       "  u'customers',\n",
       "  u'center',\n",
       "  u'internet',\n",
       "  u'verizon',\n",
       "  u'calls',\n",
       "  u'wireless',\n",
       "  u'union',\n",
       "  u'services',\n",
       "  u'installation',\n",
       "  u'satisfied',\n",
       "  u'equipment',\n",
       "  u'billing',\n",
       "  u'issues',\n",
       "  u'phones'],\n",
       " [u'sales',\n",
       "  u'reps',\n",
       "  u'store',\n",
       "  u'retail',\n",
       "  u'quota',\n",
       "  u'commission',\n",
       "  u'pressure',\n",
       "  u'goals',\n",
       "  u'rep',\n",
       "  u'sell',\n",
       "  u'quotas',\n",
       "  u'face',\n",
       "  u'territory',\n",
       "  u'goal',\n",
       "  u'numbers',\n",
       "  u'sale',\n",
       "  u'selling',\n",
       "  u'meet',\n",
       "  u'customer',\n",
       "  u'unrealistic'],\n",
       " [u'excellent',\n",
       "  u'great',\n",
       "  u'room',\n",
       "  u'advancement',\n",
       "  u'security',\n",
       "  u'benefits',\n",
       "  u'company',\n",
       "  u'wonderful',\n",
       "  u'none',\n",
       "  u'awesome',\n",
       "  u'verizon',\n",
       "  u'overall',\n",
       "  u'training',\n",
       "  u'recommend',\n",
       "  u'advance',\n",
       "  u'amazing',\n",
       "  u'love',\n",
       "  u'job',\n",
       "  u'best',\n",
       "  u'professional'],\n",
       " [u'fun',\n",
       "  u'fast',\n",
       "  u'productive',\n",
       "  u'paced',\n",
       "  u'enjoyed',\n",
       "  u'workplace',\n",
       "  u'environment',\n",
       "  u'team',\n",
       "  u'co',\n",
       "  u'friendly',\n",
       "  u'always',\n",
       "  u'place',\n",
       "  u'pace',\n",
       "  u'everyday',\n",
       "  u'enjoy',\n",
       "  u'working',\n",
       "  u'helpful',\n",
       "  u'loved',\n",
       "  u'learned',\n",
       "  u'able'],\n",
       " [u'hardest',\n",
       "  u'enjoyable',\n",
       "  u'part',\n",
       "  u'typical',\n",
       "  u'day',\n",
       "  u'learned',\n",
       "  u'job',\n",
       "  u'co',\n",
       "  u'helping',\n",
       "  u'set',\n",
       "  u'things',\n",
       "  u'multi',\n",
       "  u'goals',\n",
       "  u'easier',\n",
       "  u'achieve',\n",
       "  u'throughout',\n",
       "  u'sure',\n",
       "  u'showing',\n",
       "  u'priorities',\n",
       "  u'knowing'],\n",
       " [u'accounts',\n",
       "  u'calls',\n",
       "  u'loan',\n",
       "  u'information',\n",
       "  u'loans',\n",
       "  u'mortgage',\n",
       "  u'payments',\n",
       "  u'account',\n",
       "  u'assist',\n",
       "  u'questions',\n",
       "  u'processing',\n",
       "  u'daily',\n",
       "  u'documents',\n",
       "  u'credit',\n",
       "  u'timely',\n",
       "  u'issues',\n",
       "  u'customer',\n",
       "  u'reports',\n",
       "  u'payment',\n",
       "  u'inbound'],\n",
       " [u'marketing',\n",
       "  u'technology',\n",
       "  u'edge',\n",
       "  u'products',\n",
       "  u'product',\n",
       "  u'pearson',\n",
       "  u'media',\n",
       "  u'cutting',\n",
       "  u'digital',\n",
       "  u'market',\n",
       "  u'world',\n",
       "  u'leader',\n",
       "  u'brands',\n",
       "  u'services',\n",
       "  u'solutions',\n",
       "  u'industry',\n",
       "  u'innovative',\n",
       "  u'leading',\n",
       "  u'advertising',\n",
       "  u'technologies'],\n",
       " [u'week',\n",
       "  u'days',\n",
       "  u'hour',\n",
       "  u'overtime',\n",
       "  u'hours',\n",
       "  u'shift',\n",
       "  u'vacation',\n",
       "  u'weekends',\n",
       "  u'holidays',\n",
       "  u'late',\n",
       "  u'weeks',\n",
       "  u'schedule',\n",
       "  u'sick',\n",
       "  u'shifts',\n",
       "  u'per',\n",
       "  u'paid',\n",
       "  u'time',\n",
       "  u'lunch',\n",
       "  u'night',\n",
       "  u'expected'],\n",
       " [u'testing',\n",
       "  u'data',\n",
       "  u'test',\n",
       "  u'using',\n",
       "  u'requirements',\n",
       "  u'project',\n",
       "  u'software',\n",
       "  u'application',\n",
       "  u'analysis',\n",
       "  u'applications',\n",
       "  u'reports',\n",
       "  u'risk',\n",
       "  u'design',\n",
       "  u'reporting',\n",
       "  u'developed',\n",
       "  u'compliance',\n",
       "  u'procedures',\n",
       "  u'system',\n",
       "  u'web',\n",
       "  u'responsible'],\n",
       " [u'ibm',\n",
       "  u'cost',\n",
       "  u'outsourcing',\n",
       "  u'layoffs',\n",
       "  u'cutting',\n",
       "  u'cut',\n",
       "  u'costs',\n",
       "  u'jobs',\n",
       "  u'india',\n",
       "  u'term',\n",
       "  u'outsourced',\n",
       "  u'stock',\n",
       "  u'bottom',\n",
       "  u'morale',\n",
       "  u'price',\n",
       "  u'stop',\n",
       "  u'years',\n",
       "  u'profit',\n",
       "  u'overseas',\n",
       "  u'cuts']]"
      ]
     },
     "execution_count": 225,
     "metadata": {},
     "output_type": "execute_result"
    }
   ],
   "source": [
    "company = companies[15]\n",
    "print(company)\n",
    "\n",
    "company_tops = largest_topics(company_topics(company, True), topic_freqs, ALPHA_T, BETA_T)\n",
    "write_topics(sort_perm(company_tops)[:NB_OF_TOPICS])"
   ]
  },
  {
   "cell_type": "markdown",
   "metadata": {},
   "source": [
    "<a id=\"rating\" />"
   ]
  },
  {
   "cell_type": "markdown",
   "metadata": {},
   "source": [
    "## Topics by Rating ##"
   ]
  },
  {
   "cell_type": "code",
   "execution_count": 256,
   "metadata": {
    "collapsed": false
   },
   "outputs": [
    {
     "name": "stdout",
     "output_type": "stream",
     "text": [
      "{'rating': u'5.0', 'Management': 5, 'company': u'American Express', 'Work and Life Balance': 5, 'Compensation and Benefits': 5, 'Culture and Values': 5, 'Career Opportunities': 5}\n"
     ]
    }
   ],
   "source": [
    "# Reminder about ratings\n",
    "print ratings[0]"
   ]
  },
  {
   "cell_type": "code",
   "execution_count": 226,
   "metadata": {
    "collapsed": false,
    "scrolled": true
   },
   "outputs": [
    {
     "name": "stdout",
     "output_type": "stream",
     "text": [
      "Number of reviews: 18249\n"
     ]
    },
    {
     "data": {
      "text/plain": [
       "[[u'horrible',\n",
       "  u'treat',\n",
       "  u'women',\n",
       "  u'favoritism',\n",
       "  u'respect',\n",
       "  u'hr',\n",
       "  u'unprofessional',\n",
       "  u'terrible',\n",
       "  u'treated',\n",
       "  u'worst',\n",
       "  u'treatment',\n",
       "  u'human',\n",
       "  u'poor',\n",
       "  u'upper',\n",
       "  u'favorites',\n",
       "  u'boys',\n",
       "  u'unethical',\n",
       "  u'management',\n",
       "  u'behavior',\n",
       "  u'club'],\n",
       " [u'never',\n",
       "  u'even',\n",
       "  u'told',\n",
       "  u'one',\n",
       "  u'another',\n",
       "  u'would',\n",
       "  u'left',\n",
       "  u'got',\n",
       "  u'say',\n",
       "  u'reason',\n",
       "  u'manager',\n",
       "  u'months',\n",
       "  u'two',\n",
       "  u'tell',\n",
       "  u'go',\n",
       "  u'someone',\n",
       "  u'last',\n",
       "  u'could',\n",
       "  u'person',\n",
       "  u'ever'],\n",
       " [u'ibm',\n",
       "  u'cost',\n",
       "  u'outsourcing',\n",
       "  u'layoffs',\n",
       "  u'cutting',\n",
       "  u'cut',\n",
       "  u'costs',\n",
       "  u'jobs',\n",
       "  u'india',\n",
       "  u'term',\n",
       "  u'outsourced',\n",
       "  u'stock',\n",
       "  u'bottom',\n",
       "  u'morale',\n",
       "  u'price',\n",
       "  u'stop',\n",
       "  u'years',\n",
       "  u'profit',\n",
       "  u'overseas',\n",
       "  u'cuts'],\n",
       " [u'get',\n",
       "  u'want',\n",
       "  u'think',\n",
       "  u'know',\n",
       "  u'try',\n",
       "  u'give',\n",
       "  u'like',\n",
       "  u'way',\n",
       "  u'anyone',\n",
       "  u'stop',\n",
       "  u'else',\n",
       "  u'anything',\n",
       "  u'right',\n",
       "  u'ca',\n",
       "  u'people',\n",
       "  u'really',\n",
       "  u'done',\n",
       "  u'trying',\n",
       "  u'everyone',\n",
       "  u'actually'],\n",
       " [u'america',\n",
       "  u'bank',\n",
       "  u'enjoyed',\n",
       "  u'started',\n",
       "  u'worked',\n",
       "  u'years',\n",
       "  u'ebay',\n",
       "  u'became',\n",
       "  u'loved',\n",
       "  u'mortgage',\n",
       "  u'boa',\n",
       "  u'several',\n",
       "  u'jobs',\n",
       "  u'laid',\n",
       "  u'closed',\n",
       "  u'bofa',\n",
       "  u'changed',\n",
       "  u'dm',\n",
       "  u'regarding',\n",
       "  u'went'],\n",
       " [u'middle',\n",
       "  u'level',\n",
       "  u'managers',\n",
       "  u'senior',\n",
       "  u'directors',\n",
       "  u'upper',\n",
       "  u'mid',\n",
       "  u'director',\n",
       "  u'management',\n",
       "  u'vp',\n",
       "  u'entry',\n",
       "  u'incompetent',\n",
       "  u'micro',\n",
       "  u'manager',\n",
       "  u'lower',\n",
       "  u'managing',\n",
       "  u'poor',\n",
       "  u'sr',\n",
       "  u'manage',\n",
       "  u'levels'],\n",
       " [u'contract',\n",
       "  u'booz',\n",
       "  u'contractors',\n",
       "  u'temp',\n",
       "  u'allen',\n",
       "  u'contractor',\n",
       "  u'permanent',\n",
       "  u'temporary',\n",
       "  u'agency',\n",
       "  u'contracts',\n",
       "  u'government',\n",
       "  u'assignment',\n",
       "  u'staffing',\n",
       "  u'randstad',\n",
       "  u'recruiters',\n",
       "  u'teksystems',\n",
       "  u'bah',\n",
       "  u'position',\n",
       "  u'full',\n",
       "  u'employment'],\n",
       " [u'week',\n",
       "  u'days',\n",
       "  u'hour',\n",
       "  u'overtime',\n",
       "  u'hours',\n",
       "  u'shift',\n",
       "  u'vacation',\n",
       "  u'weekends',\n",
       "  u'holidays',\n",
       "  u'late',\n",
       "  u'weeks',\n",
       "  u'schedule',\n",
       "  u'sick',\n",
       "  u'shifts',\n",
       "  u'per',\n",
       "  u'paid',\n",
       "  u'time',\n",
       "  u'lunch',\n",
       "  u'night',\n",
       "  u'expected'],\n",
       " [u'staff',\n",
       "  u'junior',\n",
       "  u'support',\n",
       "  u'turnover',\n",
       "  u'poor',\n",
       "  u'lack',\n",
       "  u'senior',\n",
       "  u'members',\n",
       "  u'overworked',\n",
       "  u'admin',\n",
       "  u'communication',\n",
       "  u'workload',\n",
       "  u'non',\n",
       "  u'colleagues',\n",
       "  u'seniors',\n",
       "  u'administrative',\n",
       "  u'office',\n",
       "  u'high',\n",
       "  u'progression',\n",
       "  u'underpaid'],\n",
       " [u'warehouse',\n",
       "  u'breaks',\n",
       "  u'items',\n",
       "  u'break',\n",
       "  u'orders',\n",
       "  u'lunch',\n",
       "  u'safety',\n",
       "  u'boxes',\n",
       "  u'amazon',\n",
       "  u'walking',\n",
       "  u'short',\n",
       "  u'production',\n",
       "  u'machines',\n",
       "  u'picking',\n",
       "  u'equipment',\n",
       "  u'inventory',\n",
       "  u'shipping',\n",
       "  u'standing',\n",
       "  u'pick',\n",
       "  u'clean']]"
      ]
     },
     "execution_count": 226,
     "metadata": {},
     "output_type": "execute_result"
    }
   ],
   "source": [
    "top_sum = np.array([0]*len(all_topics))\n",
    "count = 0\n",
    "for i in range(len(ratings)):\n",
    "    if 'Career Opportunities' in ratings[i] and ratings[i]['Career Opportunities'] == 1:\n",
    "        count += 1\n",
    "        top_sum += np.array(doc_states[i])\n",
    "\n",
    "print(\"Number of reviews: \" + str(count))\n",
    "        \n",
    "rating_tops = largest_topics(top_sum, topic_freqs, ALPHA_T, BETA_T)\n",
    "write_topics(sort_perm(rating_tops)[:NB_OF_TOPICS])"
   ]
  },
  {
   "cell_type": "markdown",
   "metadata": {},
   "source": [
    "## Word Cloud ##\n",
    "\n",
    "To visualize the topics using d3 in a word cloud, you can use the write_topics function. To see the html and javascript to visualize them, check out the example: [topics wordcloud](http://henri.io/posts/choosing-a-job#topics.html)."
   ]
  },
  {
   "cell_type": "code",
   "execution_count": 230,
   "metadata": {
    "collapsed": false
   },
   "outputs": [],
   "source": [
    "topics_file_name = \"all_topics\"\n",
    "write_topics(range(len(all_topics)), True, topics_file_name)"
   ]
  },
  {
   "cell_type": "code",
   "execution_count": 228,
   "metadata": {
    "collapsed": false
   },
   "outputs": [],
   "source": [
    "# make a dictionary of various topics distributions:\n",
    "topic_distributions = {}\n",
    "topic_distributions['Main Topics'] = main_topicc_idx\n",
    "for company in companies:\n",
    "    topic_distributions[company] = sort_perm(largest_topics(company_topics(company), topic_freqs, ALPHA_T, BETA_T))[:NB_OF_TOPICS];\n",
    "\n",
    "# you can add other choices here for instance based on ratings' criteria\n",
    "\n",
    "#topic_distributions"
   ]
  },
  {
   "cell_type": "code",
   "execution_count": 229,
   "metadata": {
    "collapsed": false
   },
   "outputs": [],
   "source": [
    "import json\n",
    "with open(\"topic_distributions.json\" ,'w') as f:\n",
    "    json.dump(topic_distributions, f)"
   ]
  }
 ],
 "metadata": {
  "kernelspec": {
   "display_name": "Python 2",
   "language": "python",
   "name": "python2"
  },
  "language_info": {
   "codemirror_mode": {
    "name": "ipython",
    "version": 2
   },
   "file_extension": ".py",
   "mimetype": "text/x-python",
   "name": "python",
   "nbconvert_exporter": "python",
   "pygments_lexer": "ipython2",
   "version": "2.7.9"
  }
 },
 "nbformat": 4,
 "nbformat_minor": 0
}
