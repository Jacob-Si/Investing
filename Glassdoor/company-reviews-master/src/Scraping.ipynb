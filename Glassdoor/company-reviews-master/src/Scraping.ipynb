{
 "cells": [
  {
   "cell_type": "markdown",
   "metadata": {},
   "source": [
    "# Scraping Reviews #\n",
    "\n",
    "This notebook shows how to use the scrape reviews from Indeed and Glassdoor. To visualize the ratings go to the [Ratings](Ratings.html) notebook and to do topic modeling go to the [Topic Modeling](Topic-Modeling.html) notebook.\n",
    "\n",
    "Before, make sure you have MongoDB up and running."
   ]
  },
  {
   "cell_type": "markdown",
   "metadata": {},
   "source": [
    "## Parameters ##"
   ]
  },
  {
   "cell_type": "code",
   "execution_count": 1,
   "metadata": {
    "collapsed": false
   },
   "outputs": [],
   "source": [
    "# Search settings\n",
    "KEYWORD_FILTER = \"Data Scientist\"\n",
    "LOCATION_FILTER = \"New York City, NY\"\n",
    "\n",
    "# Other settings\n",
    "MAX_PAGES_COMPANIES = 500\n",
    "MAX_PAGES_REVIEWS = 500"
   ]
  },
  {
   "cell_type": "code",
   "execution_count": 3,
   "metadata": {
    "collapsed": false
   },
   "outputs": [
    {
     "ename": "ImportError",
     "evalue": "No module named pymongo",
     "output_type": "error",
     "traceback": [
      "\u001b[1;31m---------------------------------------------------------------------------\u001b[0m",
      "\u001b[1;31mImportError\u001b[0m                               Traceback (most recent call last)",
      "\u001b[1;32m<ipython-input-3-be267ff36641>\u001b[0m in \u001b[0;36m<module>\u001b[1;34m()\u001b[0m\n\u001b[0;32m      2\u001b[0m \u001b[1;32mimport\u001b[0m \u001b[0mre\u001b[0m\u001b[1;33m\u001b[0m\u001b[0m\n\u001b[0;32m      3\u001b[0m \u001b[1;32mfrom\u001b[0m \u001b[0mdatetime\u001b[0m \u001b[1;32mimport\u001b[0m \u001b[0mdatetime\u001b[0m\u001b[1;33m\u001b[0m\u001b[0m\n\u001b[1;32m----> 4\u001b[1;33m \u001b[1;32mfrom\u001b[0m \u001b[0mpymongo\u001b[0m \u001b[1;32mimport\u001b[0m \u001b[0mMongoClient\u001b[0m\u001b[1;33m\u001b[0m\u001b[0m\n\u001b[0m\u001b[0;32m      5\u001b[0m \u001b[1;32mimport\u001b[0m \u001b[0mindeed\u001b[0m\u001b[1;33m\u001b[0m\u001b[0m\n\u001b[0;32m      6\u001b[0m \u001b[1;32mimport\u001b[0m \u001b[0mglassdoor\u001b[0m\u001b[1;33m\u001b[0m\u001b[0m\n",
      "\u001b[1;31mImportError\u001b[0m: No module named pymongo"
     ]
    }
   ],
   "source": [
    "import os\n",
    "import re\n",
    "from datetime import datetime\n",
    "from pymongo import MongoClient\n",
    "import indeed\n",
    "import glassdoor\n",
    "import utils"
   ]
  },
  {
   "cell_type": "code",
   "execution_count": 4,
   "metadata": {
    "collapsed": false
   },
   "outputs": [
    {
     "ename": "NameError",
     "evalue": "name 'MongoClient' is not defined",
     "output_type": "error",
     "traceback": [
      "\u001b[1;31m---------------------------------------------------------------------------\u001b[0m",
      "\u001b[1;31mNameError\u001b[0m                                 Traceback (most recent call last)",
      "\u001b[1;32m<ipython-input-4-5e444593d89b>\u001b[0m in \u001b[0;36m<module>\u001b[1;34m()\u001b[0m\n\u001b[0;32m      1\u001b[0m \u001b[1;31m# DB settings\u001b[0m\u001b[1;33m\u001b[0m\u001b[1;33m\u001b[0m\u001b[0m\n\u001b[1;32m----> 2\u001b[1;33m \u001b[0mclient\u001b[0m \u001b[1;33m=\u001b[0m \u001b[0mMongoClient\u001b[0m\u001b[1;33m(\u001b[0m\u001b[1;33m)\u001b[0m\u001b[1;33m\u001b[0m\u001b[0m\n\u001b[0m\u001b[0;32m      3\u001b[0m \u001b[0mindeed_db\u001b[0m \u001b[1;33m=\u001b[0m \u001b[0mclient\u001b[0m\u001b[1;33m.\u001b[0m\u001b[0mindeed\u001b[0m\u001b[1;33m\u001b[0m\u001b[0m\n\u001b[0;32m      4\u001b[0m \u001b[0mindeed_jobs\u001b[0m \u001b[1;33m=\u001b[0m \u001b[0mindeed_db\u001b[0m\u001b[1;33m.\u001b[0m\u001b[0mjobs\u001b[0m\u001b[1;33m\u001b[0m\u001b[0m\n\u001b[0;32m      5\u001b[0m \u001b[0mindeed_reviews\u001b[0m \u001b[1;33m=\u001b[0m \u001b[0mindeed_db\u001b[0m\u001b[1;33m.\u001b[0m\u001b[0mreviews\u001b[0m\u001b[1;33m\u001b[0m\u001b[0m\n",
      "\u001b[1;31mNameError\u001b[0m: name 'MongoClient' is not defined"
     ]
    }
   ],
   "source": [
    "# DB settings\n",
    "client = MongoClient()\n",
    "indeed_db = client.indeed\n",
    "indeed_jobs = indeed_db.jobs\n",
    "indeed_reviews = indeed_db.reviews\n",
    "glassdoor_db = client.glassdoor\n",
    "glassdoor_reviews = glassdoor_db.reviews"
   ]
  },
  {
   "cell_type": "markdown",
   "metadata": {},
   "source": [
    "## Scrape job listings from Indeed ##"
   ]
  },
  {
   "cell_type": "code",
   "execution_count": null,
   "metadata": {
    "collapsed": false
   },
   "outputs": [],
   "source": [
    "jobs = indeed.get_jobs(KEYWORD_FILTER, LOCATION_FILTER, indeed_jobs, MAX_PAGES_COMPANIES)"
   ]
  },
  {
   "cell_type": "markdown",
   "metadata": {},
   "source": [
    "## Scrape company reviews from Indeed ##\n",
    "\n",
    "This takes all the companies that appear in the jobs scraped."
   ]
  },
  {
   "cell_type": "code",
   "execution_count": null,
   "metadata": {
    "collapsed": false
   },
   "outputs": [],
   "source": [
    "indeed.get_all_company_reviews(jobs, indeed_reviews, MAX_PAGES_REVIEWS)"
   ]
  },
  {
   "cell_type": "code",
   "execution_count": 5,
   "metadata": {
    "collapsed": false
   },
   "outputs": [
    {
     "data": {
      "text/plain": [
       "{u'_id': ObjectId('54f763e3bcccd9197dbbdb91'),\n",
       " u'company_name': u'American Express',\n",
       " u'date': datetime.datetime(2013, 4, 3, 0, 0),\n",
       " u'employment_status': u'\\xa0(Former Employee),\\xa0',\n",
       " u'job_title': u'Shipping Clerk',\n",
       " u'location': u'Piscataway, New Jersey',\n",
       " u'rating': u'5.0',\n",
       " u'review_cons': u'Cons: long hours doing the christmas season',\n",
       " u'review_pros': u'Pros: you are able to apply for a credit card',\n",
       " u'review_text': u'If you are looking for a job to retire from and the work is not hard,then American Express is that company.',\n",
       " u'review_title': u'A Company with a future',\n",
       " u'stars': {u'Compensation/Benefits': 5,\n",
       "  u'Job Culture': 5,\n",
       "  u'Job Security/Advancement': 5,\n",
       "  u'Job Work/Life Balance': 5,\n",
       "  u'Management': 5}}"
      ]
     },
     "execution_count": 5,
     "metadata": {},
     "output_type": "execute_result"
    }
   ],
   "source": [
    "indeed_reviews.find_one()"
   ]
  },
  {
   "cell_type": "markdown",
   "metadata": {},
   "source": [
    "# Fix Company Names #\n",
    "\n",
    "Indeed's company names are inconsistent. The same company can be listed several times with various spellings/typos/words. It's necessary to look at the companies and fix the names. The utils module has a function which takes a dictionary that takes the old name and returns the new one (names not in the dictionary are left as is). See below for an example (the one I used had over 30 name fixes."
   ]
  },
  {
   "cell_type": "code",
   "execution_count": 17,
   "metadata": {
    "collapsed": false
   },
   "outputs": [
    {
     "data": {
      "text/plain": [
       "[u'Financial Times',\n",
       " u'McGraw Hill Financial',\n",
       " u'The Nielsen Company',\n",
       " u'Continuum',\n",
       " u'RUSSELL INVESTMENTS']"
      ]
     },
     "execution_count": 17,
     "metadata": {},
     "output_type": "execute_result"
    }
   ],
   "source": [
    "companies = list(set(utils.get_company_names(indeed_reviews)))\n",
    "companies[:5]"
   ]
  },
  {
   "cell_type": "code",
   "execution_count": null,
   "metadata": {
    "collapsed": false
   },
   "outputs": [],
   "source": [
    "fix_companies = {'Argus, ISO, Verisk Analytics, Verisk Climate, Veri...': 'Verisk Analytics',\n",
    "                 'Barclays Investment Bank': 'Barclays', 'Dun & Brandstreet': u'Dun & Bradstreet', \n",
    "                 'Dun & Broadstreet':u'Dun & Bradstreet', 'World Business Lenders - New York, NY':'World Business Lenders'\n",
    "                }\n",
    "utils.fix_all_company_names(indeed_reviews, fix_companies)"
   ]
  },
  {
   "cell_type": "code",
   "execution_count": null,
   "metadata": {
    "collapsed": false
   },
   "outputs": [],
   "source": [
    "companies = list(set(utils.get_company_names(indeed_reviews)))"
   ]
  },
  {
   "cell_type": "markdown",
   "metadata": {},
   "source": [
    "## Scrape Glassdoor ##"
   ]
  },
  {
   "cell_type": "code",
   "execution_count": null,
   "metadata": {
    "collapsed": false
   },
   "outputs": [],
   "source": [
    "visited_companies, failed_companies = glassdoor.get_all_company_reviews(companies, \n",
    "                                              glassdoor_reviews, MAX_PAGES_REVIEWS)"
   ]
  },
  {
   "cell_type": "markdown",
   "metadata": {},
   "source": [
    "## Final Fixes ##\n",
    "\n",
    "Look at the failed companies. Often they couldn't be found on glassdoor because of an issue with their name. You might need to fix the names again (and search on glassdoor for the name some companies are listed under). Beware of encoding issues: if you pass an optional flag to utils.fix_company_name, you can encode the company names to ascii.\n",
    "\n",
    "Note: this is usually quite a bit slower than Indeed because there are many more reviews (e.g. Goldman Sachs has 198 pages!)."
   ]
  },
  {
   "cell_type": "code",
   "execution_count": null,
   "metadata": {
    "collapsed": false
   },
   "outputs": [],
   "source": [
    "# fix_companies = {u'SigmaTek':u'SigmaTek Consulting LLC',\n",
    "#                 }\n",
    "# utils.fix_all_company_names(indeed_reviews, fix_companies)\n",
    "# fixed_failed_companies = fixed_failed_companies = [utils.fix_company_name(company,\n",
    "# fix_companies, True) for company in failed_companies]\n",
    "# visited_companies2, failed_companies = glassdoor.get_all_company_reviews(fixed_failed_companies, \n",
    "#                                               glassdoor_reviews, MAX_PAGES_REVIEWS)"
   ]
  },
  {
   "cell_type": "markdown",
   "metadata": {},
   "source": [
    "Here I would do one last check too see which companies were scraped in glassdoor and indeed. Occasionally the wrong company might have been scraped on glassdoor."
   ]
  },
  {
   "cell_type": "code",
   "execution_count": null,
   "metadata": {
    "collapsed": false
   },
   "outputs": [],
   "source": [
    "glassdoor_companies = set(utils.get_company_names(glassdoor_reviews))\n",
    "indeed_companies = set(utils.get_company_names(indeed_reviews))\n",
    "\n",
    "# Remove the extra companies:\n",
    "extra_companies = glassdoor_companies - indeed_companies\n",
    "for company in extra_companies:\n",
    "    glassdoor_reviews.remove({'company' : company})\n",
    "\n",
    "print \"Missing companies\", indeed_companies - glassdoor_companies"
   ]
  },
  {
   "cell_type": "markdown",
   "metadata": {},
   "source": [
    "## Done! ##\n",
    "Now all of the data is in the Mongo database. To visualize the ratings go to the [Ratings](Ratings.ipynb) notebook and to do topic modeling go to the [Topic Modeling](Topic Modeling.ipynb) notebook."
   ]
  }
 ],
 "metadata": {
  "kernelspec": {
   "display_name": "Python 2",
   "language": "python",
   "name": "python2"
  },
  "language_info": {
   "codemirror_mode": {
    "name": "ipython",
    "version": 2
   },
   "file_extension": ".py",
   "mimetype": "text/x-python",
   "name": "python",
   "nbconvert_exporter": "python",
   "pygments_lexer": "ipython2",
   "version": "2.7.11"
  }
 },
 "nbformat": 4,
 "nbformat_minor": 0
}
