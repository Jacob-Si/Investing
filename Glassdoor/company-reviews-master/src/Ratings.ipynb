{
 "cells": [
  {
   "cell_type": "markdown",
   "metadata": {},
   "source": [
    "# Ratings #\n",
    "\n",
    "In this notebook we'll plot the company ratings.\n",
    "\n",
    "- [1 Company](#1company)\n",
    "- [Overall](#overall)\n",
    "\n",
    "To see how the data was obtained, go to the [Scraping](scraping.html) notebook. For further analysis, go to the [Topic Modeling](topic-modeling.html) notebook."
   ]
  },
  {
   "cell_type": "code",
   "execution_count": null,
   "metadata": {
    "collapsed": false
   },
   "outputs": [],
   "source": [
    "from pymongo import MongoClient\n",
    "import datetime\n",
    "import reviews_data\n",
    "# from nltk.tokenize import sent_tokenize, word_tokenize\n",
    "# from nltk.corpus import stopwords\n",
    "# import re\n",
    "# import string\n",
    "# from gensim import corpora, models, similarities\n",
    "import matplotlib.pyplot as plt\n",
    "import utils\n",
    "import numpy as np"
   ]
  },
  {
   "cell_type": "code",
   "execution_count": null,
   "metadata": {
    "collapsed": false
   },
   "outputs": [],
   "source": [
    "# DB settings\n",
    "client = MongoClient()\n",
    "indeed_db = client.indeed\n",
    "indeed_jobs = indeed_db.jobs\n",
    "indeed_reviews = indeed_db.reviews\n",
    "glassdoor_db = client.glassdoor\n",
    "glassdoor_reviews = glassdoor_db.reviews"
   ]
  },
  {
   "cell_type": "code",
   "execution_count": null,
   "metadata": {
    "collapsed": false
   },
   "outputs": [],
   "source": [
    "companies = list(set(utils.get_company_names(indeed_reviews)))\n",
    "ratings = reviews_data.all_ratings(indeed_reviews, glassdoor_reviews)\n",
    "\n",
    "kept_ratings = []\n",
    "# Drop ratings without any rating information\n",
    "for rating in ratings:\n",
    "    if len(rating) > 1:\n",
    "        kept_ratings.append(rating)\n",
    "ratings = kept_ratings\n",
    "len(ratings)"
   ]
  },
  {
   "cell_type": "code",
   "execution_count": null,
   "metadata": {
    "collapsed": false
   },
   "outputs": [],
   "source": [
    "ratings[0]"
   ]
  },
  {
   "cell_type": "code",
   "execution_count": null,
   "metadata": {
    "collapsed": false
   },
   "outputs": [],
   "source": [
    "# returns the ratings for a company\n",
    "# Possible keys: 'Comp & Benefits', 'Culture & Values','Career Opportunities', \n",
    "# 'Senior Management', 'Work/Life Balance', and 'rating'\n",
    "def get_company_ratings(company, ratings, key):\n",
    "    company_ratings = []\n",
    "    for rating in ratings:\n",
    "        if rating['company'].lower() == company.lower() and key in rating:\n",
    "            company_ratings.append(float(rating[key]))\n",
    "    return company_ratings\n",
    "\n",
    "# Plot ratings histograms\n",
    "def draw_scores(scores, title=\"\", show = True, save = False):\n",
    "    if len(scores) == 0:\n",
    "        print \"No scores to plot\"\n",
    "        return\n",
    "    hist = np.histogram(scores,bins=5,range=[0.01,5.01])[0] # for rounding\n",
    "    draw_hist(hist, title, show, save)\n",
    "\n",
    "def draw_hist(hist, title = \"\", show = True, save = False):\n",
    "    plt.figure(figsize=(8,6))\n",
    "    plt.bar([x+0.6 for x in range(5)], hist)\n",
    "    plt.title(title,fontsize=25)\n",
    "    plt.xlabel(\"Stars\",fontsize=16)\n",
    "    plt.ylabel(\"Number of reviews\",fontsize=16)\n",
    "    plt.xticks([0,1,2,3,4,5])\n",
    "    plt.tick_params(labelsize=12)\n",
    "    if save:\n",
    "        plt.savefig('images/' + title.replace('/','-').replace(' ','_') + \".png\")\n",
    "    if show: plt.show()\n",
    "    plt.close()\n",
    "    return\n",
    "    \n",
    "def draw_all_company_rating(rating_key, companies_list, title_end):\n",
    "    for company in companies_list:\n",
    "        scores = get_company_ratings(company, ratings, rating_key)\n",
    "        title = company + title_end\n",
    "        draw_scores(scores, title, False, True);"
   ]
  },
  {
   "cell_type": "markdown",
   "metadata": {},
   "source": [
    "<a id='1company' />"
   ]
  },
  {
   "cell_type": "markdown",
   "metadata": {},
   "source": [
    "## Plot 1 company's ratings ##\n",
    "\n",
    "There are rating several categories: 'Career Opportunities', 'Compensation and Benefits', 'Culture and Values', 'Management', 'Work and Life Balance' and 'rating'."
   ]
  },
  {
   "cell_type": "code",
   "execution_count": null,
   "metadata": {
    "collapsed": false
   },
   "outputs": [],
   "source": [
    "%matplotlib inline\n",
    "\n",
    "company = companies[15]\n",
    "rating_key = 'rating'\n",
    "\n",
    "title = company + \" overall ratings\"\n",
    "scores = get_company_ratings(company, ratings, rating_key)\n",
    "draw_scores(scores, title)\n",
    "\n",
    "rating_keys = ['Career Opportunities', 'Compensation and Benefits',\n",
    "               'Culture and Values', 'Management', 'Work and Life Balance']\n",
    "for rating_key in rating_keys:\n",
    "    title = company + \" \" + rating_key + \" ratings\"\n",
    "    scores = get_company_ratings(company, ratings, rating_key)\n",
    "    draw_scores(scores, title)"
   ]
  },
  {
   "cell_type": "markdown",
   "metadata": {},
   "source": [
    "# Plot all companies' ratings #\n",
    "\n",
    "Plot all of the companies' ratings and save them as images."
   ]
  },
  {
   "cell_type": "code",
   "execution_count": null,
   "metadata": {
    "collapsed": false
   },
   "outputs": [],
   "source": [
    "rating_key = 'rating'\n",
    "title_end = ' overall ratings'\n",
    "draw_all_company_rating(rating_key, companies, title_end)"
   ]
  },
  {
   "cell_type": "markdown",
   "metadata": {},
   "source": [
    "<a id='overall' />"
   ]
  },
  {
   "cell_type": "markdown",
   "metadata": {},
   "source": [
    "# Overall Ratings #"
   ]
  },
  {
   "cell_type": "code",
   "execution_count": null,
   "metadata": {
    "collapsed": false
   },
   "outputs": [],
   "source": [
    "import numpy as np\n",
    "\n",
    "# average will divide by the number of ratings\n",
    "def get_all_ratings(rating_key, average = False):\n",
    "    total_ratings = np.zeros(5)\n",
    "    for company in companies:\n",
    "        company_ratings = get_company_ratings(company, ratings, rating_key)\n",
    "        hist = np.histogram(company_ratings,bins=5,range=[0.01,5.01])[0]\n",
    "        if average:\n",
    "            hist = hist.astype(float) / sum(hist)\n",
    "        total_ratings += hist\n",
    "    return total_ratings"
   ]
  },
  {
   "cell_type": "code",
   "execution_count": null,
   "metadata": {
    "collapsed": false
   },
   "outputs": [],
   "source": [
    "ratings_key = 'rating'\n",
    "total_ratings = get_all_ratings(rating_key)\n",
    "draw_hist(total_ratings, \"All Overall Ratings\", True, True)"
   ]
  },
  {
   "cell_type": "code",
   "execution_count": null,
   "metadata": {
    "collapsed": false
   },
   "outputs": [],
   "source": [
    "titles = [\"All \" + r + \" Ratings\" for r in rating_keys]\n",
    "\n",
    "for key,title in zip(rating_keys, titles):\n",
    "    total_ratings = get_all_ratings(key)\n",
    "    draw_hist(total_ratings, title, True, True)"
   ]
  },
  {
   "cell_type": "code",
   "execution_count": null,
   "metadata": {
    "collapsed": false
   },
   "outputs": [],
   "source": [
    "# Now without weighting by number of employees\n",
    "ratings_key = 'rating'\n",
    "total_ratings = get_all_ratings(rating_key, True)\n",
    "draw_hist(total_ratings, \"All Overall Ratings Average\", True, True)"
   ]
  },
  {
   "cell_type": "code",
   "execution_count": null,
   "metadata": {
    "collapsed": false
   },
   "outputs": [],
   "source": [
    "titles = [\"All \" + r + \" Ratings Average\" for r in rating_keys]\n",
    "\n",
    "for key,title in zip(rating_keys, titles):\n",
    "    total_ratings = get_all_ratings(key, True)\n",
    "    draw_hist(total_ratings, title, True, True)"
   ]
  }
 ],
 "metadata": {
  "kernelspec": {
   "display_name": "Python 2",
   "language": "python",
   "name": "python2"
  },
  "language_info": {
   "codemirror_mode": {
    "name": "ipython",
    "version": 2
   },
   "file_extension": ".py",
   "mimetype": "text/x-python",
   "name": "python",
   "nbconvert_exporter": "python",
   "pygments_lexer": "ipython2",
   "version": "2.7.11"
  }
 },
 "nbformat": 4,
 "nbformat_minor": 0
}
